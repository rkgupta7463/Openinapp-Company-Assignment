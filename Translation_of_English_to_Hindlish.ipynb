{
  "nbformat": 4,
  "nbformat_minor": 0,
  "metadata": {
    "colab": {
      "provenance": [],
      "authorship_tag": "ABX9TyP8R+inU59Xum9qT4Q9gAws",
      "include_colab_link": true
    },
    "kernelspec": {
      "name": "python3",
      "display_name": "Python 3"
    },
    "language_info": {
      "name": "python"
    }
  },
  "cells": [
    {
      "cell_type": "markdown",
      "metadata": {
        "id": "view-in-github",
        "colab_type": "text"
      },
      "source": [
        "<a href=\"https://colab.research.google.com/github/rkgupta7463/Openinapp-Company-Assignment/blob/main/Translation_of_English_to_Hindlish.ipynb\" target=\"_parent\"><img src=\"https://colab.research.google.com/assets/colab-badge.svg\" alt=\"Open In Colab\"/></a>"
      ]
    },
    {
      "cell_type": "code",
      "execution_count": 1,
      "metadata": {
        "id": "aZCWprBIPZ2Q"
      },
      "outputs": [],
      "source": [
        "###Import the requires libraries or modules\n",
        "import numpy as np\n",
        "import pandas as pd\n",
        "import tensorflow as tf\n",
        "from tensorflow import keras\n",
        "from tensorflow.keras.preprocessing.text import one_hot\n",
        "from tensorflow.keras.preprocessing.sequence import pad_sequences\n",
        "# Ignore all warnings\n",
        "import warnings\n",
        "warnings.filterwarnings('ignore')"
      ]
    },
    {
      "cell_type": "code",
      "source": [
        "batch_size = 64  # Batch size for training.\n",
        "epochs = 100  # Number of epochs to train for.\n",
        "latent_dim = 256  # Latent dimensionality of the encoding space.\n",
        "num_samples = 10000  # Number of samples to train on."
      ],
      "metadata": {
        "id": "2QCA1QUXSUs7"
      },
      "execution_count": 2,
      "outputs": []
    },
    {
      "cell_type": "code",
      "source": [
        "# Path to the data txt file on disk.\n",
        "data_path = \"hin.txt\""
      ],
      "metadata": {
        "id": "t4lv7GbES-lb"
      },
      "execution_count": 3,
      "outputs": []
    },
    {
      "cell_type": "code",
      "source": [
        "# Vectorize the data.\n",
        "input_texts = []\n",
        "target_texts = []\n",
        "input_characters = set()\n",
        "target_characters = set()\n",
        "with open(data_path, \"r\", encoding=\"utf-8\") as f:\n",
        "    lines = f.read().split(\"\\n\")\n",
        "\n",
        "\n",
        "for line in lines[: min(num_samples, len(lines) - 1)]:\n",
        "    input_text, target_text, _ = line.split(\"\\t\")\n",
        "    target_text = \"\\t\" + target_text + \"\\n\"\n",
        "    input_texts.append(input_text)\n",
        "    target_texts.append(target_text)\n",
        "    for char in input_text:\n",
        "        if char not in input_characters:\n",
        "            input_characters.add(char)\n",
        "\n",
        "    for char in target_text:\n",
        "        if char not in target_characters:\n",
        "            target_characters.add(char)"
      ],
      "metadata": {
        "id": "-PTBvWaAS_2A"
      },
      "execution_count": 4,
      "outputs": []
    },
    {
      "cell_type": "code",
      "source": [
        "input_texts[:10]"
      ],
      "metadata": {
        "colab": {
          "base_uri": "https://localhost:8080/"
        },
        "id": "Zsf72pX_vy32",
        "outputId": "78be5558-d19e-43e6-de06-d76f9bddbee2"
      },
      "execution_count": 5,
      "outputs": [
        {
          "output_type": "execute_result",
          "data": {
            "text/plain": [
              "['Wow!',\n",
              " 'Duck!',\n",
              " 'Duck!',\n",
              " 'Help!',\n",
              " 'Jump.',\n",
              " 'Jump.',\n",
              " 'Jump.',\n",
              " 'Hello!',\n",
              " 'Hello!',\n",
              " 'Cheers!']"
            ]
          },
          "metadata": {},
          "execution_count": 5
        }
      ]
    },
    {
      "cell_type": "code",
      "source": [
        "target_texts[:10]"
      ],
      "metadata": {
        "colab": {
          "base_uri": "https://localhost:8080/"
        },
        "id": "22TwSNe-v3Fs",
        "outputId": "85ad7cf2-40bf-48ee-842e-579a80464379"
      },
      "execution_count": 6,
      "outputs": [
        {
          "output_type": "execute_result",
          "data": {
            "text/plain": [
              "['\\tवाह!\\n',\n",
              " '\\tझुको!\\n',\n",
              " '\\tबतख़!\\n',\n",
              " '\\tबचाओ!\\n',\n",
              " '\\tउछलो.\\n',\n",
              " '\\tकूदो.\\n',\n",
              " '\\tछलांग.\\n',\n",
              " '\\tनमस्ते।\\n',\n",
              " '\\tनमस्कार।\\n',\n",
              " '\\tवाह-वाह!\\n']"
            ]
          },
          "metadata": {},
          "execution_count": 6
        }
      ]
    },
    {
      "cell_type": "code",
      "source": [
        "input_characters = sorted(list(input_characters))\n",
        "target_characters = sorted(list(target_characters))\n",
        "num_encoder_tokens = len(input_characters)\n",
        "num_decoder_tokens = len(target_characters)\n",
        "max_encoder_seq_length = max([len(txt) for txt in input_texts])\n",
        "max_decoder_seq_length = max([len(txt) for txt in target_texts])"
      ],
      "metadata": {
        "id": "9q8yRxI3wFjf"
      },
      "execution_count": 7,
      "outputs": []
    },
    {
      "cell_type": "code",
      "source": [
        "print(\"Number of samples:\", len(input_texts))\n",
        "print(\"Number of unique input tokens:\", num_encoder_tokens)\n",
        "print(\"Number of unique output tokens:\", num_decoder_tokens)\n",
        "print(\"Max sequence length for inputs:\", max_encoder_seq_length)\n",
        "print(\"Max sequence length for outputs:\", max_decoder_seq_length)"
      ],
      "metadata": {
        "colab": {
          "base_uri": "https://localhost:8080/"
        },
        "id": "f3QwpUxayGgc",
        "outputId": "47462a88-be6c-45d9-c98d-876a784f8022"
      },
      "execution_count": 8,
      "outputs": [
        {
          "output_type": "stream",
          "name": "stdout",
          "text": [
            "Number of samples: 2979\n",
            "Number of unique input tokens: 70\n",
            "Number of unique output tokens: 90\n",
            "Max sequence length for inputs: 107\n",
            "Max sequence length for outputs: 123\n"
          ]
        }
      ]
    },
    {
      "cell_type": "code",
      "source": [
        "input_token_index = dict([(char, i) for i, char in enumerate(input_characters)])\n",
        "target_token_index = dict([(char, i) for i, char in enumerate(target_characters)])"
      ],
      "metadata": {
        "id": "FN4Rs3CLyJZI"
      },
      "execution_count": 9,
      "outputs": []
    },
    {
      "cell_type": "code",
      "source": [
        "encoder_input_data = np.zeros(\n",
        "    (len(input_texts), max_encoder_seq_length, num_encoder_tokens), dtype=\"float32\"\n",
        ")\n",
        "decoder_input_data = np.zeros(\n",
        "    (len(input_texts), max_decoder_seq_length, num_decoder_tokens), dtype=\"float32\"\n",
        ")\n",
        "decoder_target_data = np.zeros(\n",
        "    (len(input_texts), max_decoder_seq_length, num_decoder_tokens), dtype=\"float32\"\n",
        ")"
      ],
      "metadata": {
        "id": "lbPdatW3yp3b"
      },
      "execution_count": 15,
      "outputs": []
    },
    {
      "cell_type": "code",
      "source": [
        "for i, (input_text, target_text) in enumerate(zip(input_texts, target_texts)):\n",
        "    for t, char in enumerate(input_text):\n",
        "        encoder_input_data[i, t, input_token_index[char]] = 1.0\n",
        "    encoder_input_data[i, t + 1 :, input_token_index[\" \"]] = 1.0\n",
        "    for t, char in enumerate(target_text):\n",
        "        decoder_input_data[i, t, target_token_index[char]] = 1.0\n",
        "        if t > 0:\n",
        "            decoder_target_data[i, t - 1, target_token_index[char]] = 1.0\n",
        "    decoder_input_data[i, t + 1 :, target_token_index[\" \"]] = 1.0\n",
        "    decoder_target_data[i, t:, target_token_index[\" \"]] = 1.0"
      ],
      "metadata": {
        "id": "qXuQ2nnHD7bV"
      },
      "execution_count": 16,
      "outputs": []
    },
    {
      "cell_type": "code",
      "source": [
        "# Define an input sequence and process it.\n",
        "encoder_inputs = keras.Input(shape=(None, num_encoder_tokens))\n",
        "encoder = keras.layers.LSTM(latent_dim, return_state=True)\n",
        "encoder_outputs, state_h, state_c = encoder(encoder_inputs)\n",
        "\n",
        "# We discard `encoder_outputs` and only keep the states.\n",
        "encoder_states = [state_h, state_c]\n",
        "\n",
        "# Set up the decoder, using `encoder_states` as initial state.\n",
        "decoder_inputs = keras.Input(shape=(None, num_decoder_tokens))\n",
        "\n",
        "# We set up our decoder to return full output sequences,\n",
        "# and to return internal states as well. We don't use the\n",
        "# return states in the training model, but we will use them in inference.\n",
        "decoder_lstm = keras.layers.LSTM(latent_dim, return_sequences=True, return_state=True)\n",
        "decoder_outputs, _, _ = decoder_lstm(decoder_inputs, initial_state=encoder_states)\n",
        "decoder_dense = keras.layers.Dense(num_decoder_tokens, activation=\"softmax\")\n",
        "decoder_outputs = decoder_dense(decoder_outputs)\n",
        "\n",
        "# Define the model that will turn\n",
        "# `encoder_input_data` & `decoder_input_data` into `decoder_target_data`\n",
        "model = keras.Model([encoder_inputs, decoder_inputs], decoder_outputs)"
      ],
      "metadata": {
        "id": "qavP7jphGMnt"
      },
      "execution_count": 19,
      "outputs": []
    },
    {
      "cell_type": "code",
      "source": [
        "model.compile(\n",
        "    optimizer=\"rmsprop\", loss=\"categorical_crossentropy\", metrics=[\"accuracy\"]\n",
        ")\n",
        "model.fit(\n",
        "    [encoder_input_data, decoder_input_data],\n",
        "    decoder_target_data,\n",
        "    batch_size=batch_size,\n",
        "    epochs=25,\n",
        "    validation_split=0.2,\n",
        ")"
      ],
      "metadata": {
        "colab": {
          "base_uri": "https://localhost:8080/"
        },
        "id": "bke-ZvuJHqK3",
        "outputId": "c615b8f8-93ab-4803-fc46-227fccc15686"
      },
      "execution_count": 20,
      "outputs": [
        {
          "output_type": "stream",
          "name": "stdout",
          "text": [
            "Epoch 1/25\n",
            "38/38 [==============================] - 51s 1s/step - loss: 1.3055 - accuracy: 0.7846 - val_loss: 1.7329 - val_accuracy: 0.6848\n",
            "Epoch 2/25\n",
            "38/38 [==============================] - 45s 1s/step - loss: 1.0194 - accuracy: 0.8068 - val_loss: 1.5959 - val_accuracy: 0.6869\n",
            "Epoch 3/25\n",
            "38/38 [==============================] - 43s 1s/step - loss: 0.9039 - accuracy: 0.8083 - val_loss: 1.6359 - val_accuracy: 0.6873\n",
            "Epoch 4/25\n",
            "38/38 [==============================] - 42s 1s/step - loss: 0.8502 - accuracy: 0.8091 - val_loss: 1.5999 - val_accuracy: 0.6873\n",
            "Epoch 5/25\n",
            "38/38 [==============================] - 40s 1s/step - loss: 0.8176 - accuracy: 0.8091 - val_loss: 1.5877 - val_accuracy: 0.6847\n",
            "Epoch 6/25\n",
            "38/38 [==============================] - 41s 1s/step - loss: 0.8087 - accuracy: 0.8085 - val_loss: 1.3254 - val_accuracy: 0.6860\n",
            "Epoch 7/25\n",
            "38/38 [==============================] - 40s 1s/step - loss: 0.7994 - accuracy: 0.8088 - val_loss: 1.3295 - val_accuracy: 0.6872\n",
            "Epoch 8/25\n",
            "38/38 [==============================] - 39s 1s/step - loss: 0.7746 - accuracy: 0.8087 - val_loss: 1.3196 - val_accuracy: 0.6858\n",
            "Epoch 9/25\n",
            "38/38 [==============================] - 41s 1s/step - loss: 0.7604 - accuracy: 0.8095 - val_loss: 1.3093 - val_accuracy: 0.6833\n",
            "Epoch 10/25\n",
            "38/38 [==============================] - 41s 1s/step - loss: 0.7608 - accuracy: 0.8120 - val_loss: 1.2611 - val_accuracy: 0.6917\n",
            "Epoch 11/25\n",
            "38/38 [==============================] - 41s 1s/step - loss: 0.7278 - accuracy: 0.8168 - val_loss: 1.2548 - val_accuracy: 0.6950\n",
            "Epoch 12/25\n",
            "38/38 [==============================] - 40s 1s/step - loss: 0.7278 - accuracy: 0.8197 - val_loss: 1.2170 - val_accuracy: 0.7029\n",
            "Epoch 13/25\n",
            "38/38 [==============================] - 39s 1s/step - loss: 0.6829 - accuracy: 0.8290 - val_loss: 1.1672 - val_accuracy: 0.7147\n",
            "Epoch 14/25\n",
            "38/38 [==============================] - 41s 1s/step - loss: 0.6873 - accuracy: 0.8352 - val_loss: 1.1439 - val_accuracy: 0.7136\n",
            "Epoch 15/25\n",
            "38/38 [==============================] - 39s 1s/step - loss: 0.6399 - accuracy: 0.8397 - val_loss: 1.0837 - val_accuracy: 0.7234\n",
            "Epoch 16/25\n",
            "38/38 [==============================] - 41s 1s/step - loss: 0.6173 - accuracy: 0.8428 - val_loss: 1.0612 - val_accuracy: 0.7251\n",
            "Epoch 17/25\n",
            "38/38 [==============================] - 39s 1s/step - loss: 0.6824 - accuracy: 0.8251 - val_loss: 1.0333 - val_accuracy: 0.7326\n",
            "Epoch 18/25\n",
            "38/38 [==============================] - 39s 1s/step - loss: 0.5845 - accuracy: 0.8494 - val_loss: 1.0321 - val_accuracy: 0.7323\n",
            "Epoch 19/25\n",
            "38/38 [==============================] - 39s 1s/step - loss: 0.6085 - accuracy: 0.8480 - val_loss: 1.0089 - val_accuracy: 0.7357\n",
            "Epoch 20/25\n",
            "38/38 [==============================] - 41s 1s/step - loss: 0.5689 - accuracy: 0.8519 - val_loss: 0.9847 - val_accuracy: 0.7456\n",
            "Epoch 21/25\n",
            "38/38 [==============================] - 41s 1s/step - loss: 0.5591 - accuracy: 0.8538 - val_loss: 0.9735 - val_accuracy: 0.7391\n",
            "Epoch 22/25\n",
            "38/38 [==============================] - 39s 1s/step - loss: 0.5512 - accuracy: 0.8557 - val_loss: 1.0152 - val_accuracy: 0.7300\n",
            "Epoch 23/25\n",
            "38/38 [==============================] - 41s 1s/step - loss: 0.5427 - accuracy: 0.8580 - val_loss: 0.9534 - val_accuracy: 0.7498\n",
            "Epoch 24/25\n",
            "38/38 [==============================] - 40s 1s/step - loss: 0.5351 - accuracy: 0.8594 - val_loss: 0.9585 - val_accuracy: 0.7454\n",
            "Epoch 25/25\n",
            "38/38 [==============================] - 39s 1s/step - loss: 0.5267 - accuracy: 0.8613 - val_loss: 0.9481 - val_accuracy: 0.7522\n"
          ]
        },
        {
          "output_type": "execute_result",
          "data": {
            "text/plain": [
              "<keras.src.callbacks.History at 0x79a14c58b0a0>"
            ]
          },
          "metadata": {},
          "execution_count": 20
        }
      ]
    },
    {
      "cell_type": "code",
      "source": [
        "# Save model\n",
        "model.save(\"s2s\")"
      ],
      "metadata": {
        "id": "FhEVAwLRHsqF"
      },
      "execution_count": 21,
      "outputs": []
    },
    {
      "cell_type": "code",
      "source": [],
      "metadata": {
        "id": "38Lg_r9aN_Ox"
      },
      "execution_count": null,
      "outputs": []
    }
  ]
}